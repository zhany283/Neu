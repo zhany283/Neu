{
 "cells": [
  {
   "cell_type": "code",
   "execution_count": 12,
   "id": "9c394bec-16ea-45c0-9c30-85dd06d80b01",
   "metadata": {},
   "outputs": [
    {
     "name": "stdout",
     "output_type": "stream",
     "text": [
      "\tSTAR --runThreadN 4 --genomeDir /home/zyu2632/referenceGenome/ --readFilesIn /mnt/c/Users/ethan/OneDrive/桌面/240514_VH01039_244_AAFM2VJM5/AAFM2VJM5/BAL005_S1_L001_I1_001.fastq.gz --readFilesCommand zcat --outFileNamePrefix /home/zyu2632/star_output/BAL005_S1_L001_I1_001 --outSAMtype BAM SortedByCoordinate\n",
      "\tSTAR version: 2.7.10b   compiled: 2022-11-01T09:53:26-04:00 :/home/dobin/data/STAR/STARcode/STAR.master/source\n",
      "Sep 26 21:16:29 ..... started STAR run\n",
      "Sep 26 21:16:29 ..... loading genome\n",
      "Sep 26 21:16:51 ..... started mapping\n",
      "Sep 26 21:21:12 ..... finished mapping\n",
      "Sep 26 21:21:13 ..... started sorting BAM\n",
      "Sep 26 21:21:13 ..... finished successfully\n",
      "\tSTAR --runThreadN 4 --genomeDir /home/zyu2632/referenceGenome/ --readFilesIn /mnt/c/Users/ethan/OneDrive/桌面/240514_VH01039_244_AAFM2VJM5/AAFM2VJM5/BAL005_S1_L001_I2_001.fastq.gz --readFilesCommand zcat --outFileNamePrefix /home/zyu2632/star_output/BAL005_S1_L001_I2_001 --outSAMtype BAM SortedByCoordinate\n",
      "\tSTAR version: 2.7.10b   compiled: 2022-11-01T09:53:26-04:00 :/home/dobin/data/STAR/STARcode/STAR.master/source\n",
      "Sep 26 21:21:13 ..... started STAR run\n",
      "Sep 26 21:21:13 ..... loading genome\n",
      "Sep 26 21:21:34 ..... started mapping\n",
      "Sep 26 21:26:53 ..... finished mapping\n",
      "Sep 26 21:26:53 ..... started sorting BAM\n",
      "Sep 26 21:26:53 ..... finished successfully\n",
      "\tSTAR --runThreadN 4 --genomeDir /home/zyu2632/referenceGenome/ --readFilesIn /mnt/c/Users/ethan/OneDrive/桌面/240514_VH01039_244_AAFM2VJM5/AAFM2VJM5/BAL005_S1_L001_R1_001.fastq.gz --readFilesCommand zcat --outFileNamePrefix /home/zyu2632/star_output/BAL005_S1_L001_R1_001 --outSAMtype BAM SortedByCoordinate\n",
      "\tSTAR version: 2.7.10b   compiled: 2022-11-01T09:53:26-04:00 :/home/dobin/data/STAR/STARcode/STAR.master/source\n",
      "Sep 26 21:26:54 ..... started STAR run\n",
      "Sep 26 21:26:54 ..... loading genome\n",
      "Sep 26 21:27:18 ..... started mapping\n",
      "Sep 26 23:36:07 ..... finished mapping\n",
      "Sep 26 23:36:09 ..... started sorting BAM\n",
      "Sep 26 23:38:03 ..... finished successfully\n",
      "\tSTAR --runThreadN 4 --genomeDir /home/zyu2632/referenceGenome/ --readFilesIn /mnt/c/Users/ethan/OneDrive/桌面/240514_VH01039_244_AAFM2VJM5/AAFM2VJM5/BAL005_S1_L001_R2_001.fastq.gz --readFilesCommand zcat --outFileNamePrefix /home/zyu2632/star_output/BAL005_S1_L001_R2_001 --outSAMtype BAM SortedByCoordinate\n",
      "\tSTAR version: 2.7.10b   compiled: 2022-11-01T09:53:26-04:00 :/home/dobin/data/STAR/STARcode/STAR.master/source\n",
      "Sep 26 23:38:05 ..... started STAR run\n",
      "Sep 26 23:38:05 ..... loading genome\n",
      "Sep 26 23:38:22 ..... started mapping\n",
      "Sep 27 02:07:17 ..... finished mapping\n",
      "Sep 27 02:07:18 ..... started sorting BAM\n",
      "Sep 27 02:07:19 ..... finished successfully\n"
     ]
    }
   ],
   "source": [
    "import subprocess\n",
    "import os\n",
    "\n",
    "# Directory containing the input FASTQ files\n",
    "input_dir = \"/mnt/c/Users/ethan/OneDrive/桌面/240514_VH01039_244_AAFM2VJM5/AAFM2VJM5/\"\n",
    "output_dir = \"/home/zyu2632/star_output/\"\n",
    "genome_dir = \"/home/zyu2632/referenceGenome/\"\n",
    "\n",
    "# List all FASTQ.gz files\n",
    "fastq_files = [f for f in os.listdir(input_dir) if f.endswith('.fastq.gz')]\n",
    "\n",
    "# Loop over FASTQ files and run STAR\n",
    "for fastq_file in fastq_files:\n",
    "    input_path = os.path.join(input_dir, fastq_file)\n",
    "    output_prefix = os.path.join(output_dir, fastq_file.split('.')[0])\n",
    "\n",
    "    star_command = [\n",
    "        \"STAR\",\n",
    "        \"--runThreadN\", \"4\",\n",
    "        \"--genomeDir\", genome_dir,\n",
    "        \"--readFilesIn\", input_path,\n",
    "        \"--readFilesCommand\", \"zcat\",  # This handles gzipped input files\n",
    "        \"--outFileNamePrefix\", output_prefix,\n",
    "        \"--outSAMtype\", \"BAM\", \"SortedByCoordinate\"\n",
    "    ]\n",
    "\n",
    "    # Run the command\n",
    "    subprocess.run(star_command)\n"
   ]
  },
  {
   "cell_type": "code",
   "execution_count": null,
   "id": "b9dde32e-8e13-4850-b864-f280e74b74bc",
   "metadata": {},
   "outputs": [],
   "source": [
    "#convert reference genome to current STAR version\n",
    "STAR --runMode genomeGenerate --genomeDir /home/zyu2632/referenceGenome/ --genomeFastaFiles /mnt/c/Users/ethan/Downloads/refdata-gex-GRCh38-2020-A/fasta/genome.fa --sjdbGTFfile /mnt/c/Users/ethan/Downloads/refdata-gex-GRCh38-2020-A/genes/genes.gtf --runThreadN 4 "
   ]
  },
  {
   "cell_type": "code",
   "execution_count": null,
   "id": "19170d26-eb22-4eae-a9ea-1c3c1d95c28d",
   "metadata": {},
   "outputs": [],
   "source": []
  }
 ],
 "metadata": {
  "kernelspec": {
   "display_name": "Python 3 (ipykernel)",
   "language": "python",
   "name": "python3"
  },
  "language_info": {
   "codemirror_mode": {
    "name": "ipython",
    "version": 3
   },
   "file_extension": ".py",
   "mimetype": "text/x-python",
   "name": "python",
   "nbconvert_exporter": "python",
   "pygments_lexer": "ipython3",
   "version": "3.10.12"
  }
 },
 "nbformat": 4,
 "nbformat_minor": 5
}
